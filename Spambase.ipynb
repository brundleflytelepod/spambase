{
 "metadata": {
  "name": "",
  "signature": "sha256:85db5f0e7c3f467c9d4d70166a058daa6b62b0419942a04f462ffb7b5a00000f"
 },
 "nbformat": 3,
 "nbformat_minor": 0,
 "worksheets": [
  {
   "cells": [
    {
     "cell_type": "code",
     "collapsed": false,
     "input": [
      "import pandas as pd\n",
      "from sklearn import metrics\n",
      "from sklearn.cross_validation import cross_val_score\n",
      "from sklearn.svm import LinearSVC\n",
      "from sklearn.naive_bayes import GaussianNB, MultinomialNB\n",
      "from sklearn.ensemble import RandomForestClassifier, AdaBoostClassifier\n",
      "from sklearn.neighbors import KNeighborsClassifier\n",
      "from sklearn.qda import QDA\n",
      "from sklearn.lda import LDA\n",
      "from sklearn.tree import DecisionTreeClassifier"
     ],
     "language": "python",
     "metadata": {},
     "outputs": [],
     "prompt_number": 1
    },
    {
     "cell_type": "code",
     "collapsed": false,
     "input": [
      "spam = pd.read_csv(\"/Users/chameleonsrock/ironyard/sandbox/spambase/spambase.data\", header=None)"
     ],
     "language": "python",
     "metadata": {},
     "outputs": [],
     "prompt_number": 2
    },
    {
     "cell_type": "code",
     "collapsed": false,
     "input": [
      "results = spam[57]\n",
      "spamdata = spam.drop(57, axis=1)"
     ],
     "language": "python",
     "metadata": {},
     "outputs": [],
     "prompt_number": 3
    },
    {
     "cell_type": "code",
     "collapsed": false,
     "input": [],
     "language": "python",
     "metadata": {},
     "outputs": [],
     "prompt_number": 3
    },
    {
     "cell_type": "heading",
     "level": 1,
     "metadata": {},
     "source": [
      "Linear SVC"
     ]
    },
    {
     "cell_type": "code",
     "collapsed": false,
     "input": [
      "from sklearn.cross_validation import train_test_split\n",
      "X_train, X_test, y_train, y_test = train_test_split(spamdata, results,\n",
      "                                                    test_size=0.4, random_state=0)"
     ],
     "language": "python",
     "metadata": {},
     "outputs": [],
     "prompt_number": 4
    },
    {
     "cell_type": "code",
     "collapsed": false,
     "input": [
      "classifier = LinearSVC()\n",
      "classifier.fit(X_train, y_train)\n",
      "predicted = classifier.predict(X_test)\n",
      "\n",
      "print(metrics.classification_report(y_test, predicted))\n",
      "print(metrics.confusion_matrix(y_test, predicted))\n",
      "print(metrics.f1_score(y_test, predicted))"
     ],
     "language": "python",
     "metadata": {},
     "outputs": [
      {
       "output_type": "stream",
       "stream": "stdout",
       "text": [
        "             precision    recall  f1-score   support\n",
        "\n",
        "          0       0.81      0.96      0.88      1097\n",
        "          1       0.92      0.66      0.77       744\n",
        "\n",
        "avg / total       0.85      0.84      0.83      1841\n",
        "\n",
        "[[1052   45]\n",
        " [ 250  494]]\n",
        "0.77007014809\n"
       ]
      }
     ],
     "prompt_number": 5
    },
    {
     "cell_type": "heading",
     "level": 1,
     "metadata": {},
     "source": [
      "Gaussian Naive Bayes"
     ]
    },
    {
     "cell_type": "code",
     "collapsed": false,
     "input": [
      "classifier = GaussianNB()\n",
      "classifier.fit(X_train, y_train)\n",
      "predicted = classifier.predict(X_test)\n",
      "\n",
      "print(metrics.classification_report(y_test, predicted))\n",
      "print(metrics.confusion_matrix(y_test, predicted))\n",
      "print(metrics.f1_score(y_test, predicted))"
     ],
     "language": "python",
     "metadata": {},
     "outputs": [
      {
       "output_type": "stream",
       "stream": "stdout",
       "text": [
        "             precision    recall  f1-score   support\n",
        "\n",
        "          0       0.94      0.73      0.83      1097\n",
        "          1       0.70      0.93      0.80       744\n",
        "\n",
        "avg / total       0.85      0.82      0.82      1841\n",
        "\n",
        "[[806 291]\n",
        " [ 49 695]]\n",
        "0.803468208092\n"
       ]
      }
     ],
     "prompt_number": 6
    },
    {
     "cell_type": "heading",
     "level": 1,
     "metadata": {},
     "source": [
      "Multinomial Bayes"
     ]
    },
    {
     "cell_type": "code",
     "collapsed": false,
     "input": [
      "classifier = MultinomialNB()\n",
      "classifier.fit(X_train, y_train)\n",
      "predicted = classifier.predict(X_test)\n",
      "\n",
      "print(metrics.classification_report(y_test, predicted))\n",
      "print(metrics.confusion_matrix(y_test, predicted))\n",
      "print(metrics.f1_score(y_test, predicted))"
     ],
     "language": "python",
     "metadata": {},
     "outputs": [
      {
       "output_type": "stream",
       "stream": "stdout",
       "text": [
        "             precision    recall  f1-score   support\n",
        "\n",
        "          0       0.82      0.87      0.84      1097\n",
        "          1       0.79      0.72      0.75       744\n",
        "\n",
        "avg / total       0.81      0.81      0.81      1841\n",
        "\n",
        "[[952 145]\n",
        " [205 539]]\n",
        "0.754901960784\n"
       ]
      }
     ],
     "prompt_number": 7
    },
    {
     "cell_type": "heading",
     "level": 1,
     "metadata": {},
     "source": [
      "Random Forest"
     ]
    },
    {
     "cell_type": "code",
     "collapsed": false,
     "input": [
      "classifier = RandomForestClassifier()\n",
      "classifier.fit(X_train, y_train)\n",
      "predicted = classifier.predict(X_test)\n",
      "\n",
      "print(metrics.classification_report(y_test, predicted))\n",
      "print(metrics.confusion_matrix(y_test, predicted))\n",
      "print(metrics.f1_score(y_test, predicted))"
     ],
     "language": "python",
     "metadata": {},
     "outputs": [
      {
       "output_type": "stream",
       "stream": "stdout",
       "text": [
        "             precision    recall  f1-score   support\n",
        "\n",
        "          0       0.92      0.97      0.94      1097\n",
        "          1       0.95      0.88      0.91       744\n",
        "\n",
        "avg / total       0.93      0.93      0.93      1841\n",
        "\n",
        "[[1065   32]\n",
        " [  92  652]]\n",
        "0.913165266106\n"
       ]
      }
     ],
     "prompt_number": 8
    },
    {
     "cell_type": "heading",
     "level": 1,
     "metadata": {},
     "source": [
      "Ada Boost"
     ]
    },
    {
     "cell_type": "code",
     "collapsed": false,
     "input": [
      "classifier = AdaBoostClassifier()\n",
      "classifier.fit(X_train, y_train)\n",
      "predicted = classifier.predict(X_test)\n",
      "\n",
      "print(metrics.classification_report(y_test, predicted))\n",
      "print(metrics.confusion_matrix(y_test, predicted))\n",
      "print(metrics.f1_score(y_test, predicted))"
     ],
     "language": "python",
     "metadata": {},
     "outputs": [
      {
       "output_type": "stream",
       "stream": "stdout",
       "text": [
        "             precision    recall  f1-score   support\n",
        "\n",
        "          0       0.93      0.95      0.94      1097\n",
        "          1       0.93      0.89      0.91       744\n",
        "\n",
        "avg / total       0.93      0.93      0.93      1841\n",
        "\n",
        "[[1047   50]\n",
        " [  79  665]]\n",
        "0.911583276217\n"
       ]
      }
     ],
     "prompt_number": 9
    },
    {
     "cell_type": "heading",
     "level": 1,
     "metadata": {},
     "source": [
      "K Neighbors"
     ]
    },
    {
     "cell_type": "code",
     "collapsed": false,
     "input": [
      "classifier = KNeighborsClassifier()\n",
      "classifier.fit(X_train, y_train)\n",
      "predicted = classifier.predict(X_test)\n",
      "\n",
      "print(metrics.classification_report(y_test, predicted))\n",
      "print(metrics.confusion_matrix(y_test, predicted))\n",
      "print(metrics.f1_score(y_test, predicted))"
     ],
     "language": "python",
     "metadata": {},
     "outputs": [
      {
       "output_type": "stream",
       "stream": "stdout",
       "text": [
        "             precision    recall  f1-score   support\n",
        "\n",
        "          0       0.81      0.87      0.84      1097\n",
        "          1       0.78      0.70      0.74       744\n",
        "\n",
        "avg / total       0.80      0.80      0.80      1841\n",
        "\n",
        "[[949 148]\n",
        " [223 521]]\n",
        "0.737438075018\n"
       ]
      }
     ],
     "prompt_number": 10
    },
    {
     "cell_type": "heading",
     "level": 1,
     "metadata": {},
     "source": [
      "LDA"
     ]
    },
    {
     "cell_type": "code",
     "collapsed": false,
     "input": [
      "classifier = LDA()\n",
      "classifier.fit(X_train, y_train)\n",
      "predicted = classifier.predict(X_test)\n",
      "\n",
      "print(metrics.classification_report(y_test, predicted))\n",
      "print(metrics.confusion_matrix(y_test, predicted))\n",
      "print(metrics.f1_score(y_test, predicted))"
     ],
     "language": "python",
     "metadata": {},
     "outputs": [
      {
       "output_type": "stream",
       "stream": "stdout",
       "text": [
        "             precision    recall  f1-score   support\n",
        "\n",
        "          0       0.86      0.95      0.91      1097\n",
        "          1       0.92      0.78      0.84       744\n",
        "\n",
        "avg / total       0.88      0.88      0.88      1841\n",
        "\n",
        "[[1044   53]\n",
        " [ 166  578]]\n",
        "0.840727272727\n"
       ]
      }
     ],
     "prompt_number": 61
    },
    {
     "cell_type": "heading",
     "level": 1,
     "metadata": {},
     "source": [
      "QDA"
     ]
    },
    {
     "cell_type": "code",
     "collapsed": false,
     "input": [
      "classifier = QDA()\n",
      "classifier.fit(X_train, y_train)\n",
      "predicted = classifier.predict(X_test)\n",
      "\n",
      "print(metrics.classification_report(y_test, predicted))\n",
      "print(metrics.confusion_matrix(y_test, predicted))\n",
      "print(metrics.f1_score(y_test, predicted))"
     ],
     "language": "python",
     "metadata": {},
     "outputs": [
      {
       "output_type": "stream",
       "stream": "stdout",
       "text": [
        "             precision    recall  f1-score   support\n",
        "\n",
        "          0       0.94      0.78      0.85      1097\n",
        "          1       0.74      0.93      0.83       744\n",
        "\n",
        "avg / total       0.86      0.84      0.84      1841\n",
        "\n",
        "[[860 237]\n",
        " [ 55 689]]\n",
        "0.825149700599\n"
       ]
      }
     ],
     "prompt_number": 57
    },
    {
     "cell_type": "heading",
     "level": 1,
     "metadata": {},
     "source": [
      "Removing Unimportant Features"
     ]
    },
    {
     "cell_type": "code",
     "collapsed": false,
     "input": [
      "tree = DecisionTreeClassifier()\n",
      "tree = tree.fit(X_train, y_train)\n"
     ],
     "language": "python",
     "metadata": {},
     "outputs": [],
     "prompt_number": 12
    },
    {
     "cell_type": "code",
     "collapsed": false,
     "input": [
      "tree.feature_importances_"
     ],
     "language": "python",
     "metadata": {},
     "outputs": [
      {
       "metadata": {},
       "output_type": "pyout",
       "prompt_number": 13,
       "text": [
        "array([ 0.00204996,  0.00076341,  0.        ,  0.00143211,  0.00691329,\n",
        "        0.0008639 ,  0.1065575 ,  0.01119141,  0.00471174,  0.00928074,\n",
        "        0.00496649,  0.01580177,  0.00442495,  0.00277069,  0.        ,\n",
        "        0.05767916,  0.02001188,  0.00790806,  0.01282431,  0.00142075,\n",
        "        0.01484391,  0.00184766,  0.00626592,  0.00740988,  0.04919882,\n",
        "        0.00143099,  0.01809129,  0.00600735,  0.        ,  0.00644473,\n",
        "        0.        ,  0.        ,  0.00138491,  0.        ,  0.00281029,\n",
        "        0.00200227,  0.0088205 ,  0.        ,  0.00045692,  0.        ,\n",
        "        0.        ,  0.02306373,  0.        ,  0.00547493,  0.00609853,\n",
        "        0.0272439 ,  0.        ,  0.00142694,  0.00141469,  0.0139532 ,\n",
        "        0.        ,  0.35179023,  0.03130745,  0.00137414,  0.10236559,\n",
        "        0.02679759,  0.00910154])"
       ]
      }
     ],
     "prompt_number": 13
    },
    {
     "cell_type": "code",
     "collapsed": false,
     "input": [
      "important_features = tree.feature_importances_.nonzero()[0].tolist()"
     ],
     "language": "python",
     "metadata": {},
     "outputs": [],
     "prompt_number": 14
    },
    {
     "cell_type": "code",
     "collapsed": false,
     "input": [
      "spam2 = spam[important_features]"
     ],
     "language": "python",
     "metadata": {},
     "outputs": [],
     "prompt_number": 15
    },
    {
     "cell_type": "code",
     "collapsed": false,
     "input": [
      "X_train, X_test, y_train, y_test = train_test_split(spam2, results,\n",
      "                                                    test_size=0.4, random_state=0)"
     ],
     "language": "python",
     "metadata": {},
     "outputs": [],
     "prompt_number": 16
    },
    {
     "cell_type": "heading",
     "level": 1,
     "metadata": {},
     "source": [
      "Guassian Naive Bayes"
     ]
    },
    {
     "cell_type": "code",
     "collapsed": false,
     "input": [
      "classifier = GaussianNB()\n",
      "classifier.fit(X_train, y_train)\n",
      "predicted = classifier.predict(X_test)\n",
      "\n",
      "print(metrics.classification_report(y_test, predicted))\n",
      "print(metrics.confusion_matrix(y_test, predicted))\n",
      "print(metrics.f1_score(y_test, predicted))"
     ],
     "language": "python",
     "metadata": {},
     "outputs": [
      {
       "output_type": "stream",
       "stream": "stdout",
       "text": [
        "             precision    recall  f1-score   support\n",
        "\n",
        "          0       0.94      0.77      0.85      1097\n",
        "          1       0.73      0.93      0.82       744\n",
        "\n",
        "avg / total       0.86      0.84      0.84      1841\n",
        "\n",
        "[[848 249]\n",
        " [ 54 690]]\n",
        "0.819964349376\n"
       ]
      }
     ],
     "prompt_number": 17
    },
    {
     "cell_type": "heading",
     "level": 1,
     "metadata": {},
     "source": [
      "K Neighbors"
     ]
    },
    {
     "cell_type": "code",
     "collapsed": false,
     "input": [
      "classifier = KNeighborsClassifier()\n",
      "classifier.fit(X_train, y_train)\n",
      "predicted = classifier.predict(X_test)\n",
      "\n",
      "print(metrics.classification_report(y_test, predicted))\n",
      "print(metrics.confusion_matrix(y_test, predicted))\n",
      "print(metrics.f1_score(y_test, predicted))"
     ],
     "language": "python",
     "metadata": {},
     "outputs": [
      {
       "output_type": "stream",
       "stream": "stdout",
       "text": [
        "             precision    recall  f1-score   support\n",
        "\n",
        "          0       0.81      0.87      0.84      1097\n",
        "          1       0.78      0.70      0.74       744\n",
        "\n",
        "avg / total       0.80      0.80      0.80      1841\n",
        "\n",
        "[[952 145]\n",
        " [222 522]]\n",
        "0.739900779589\n"
       ]
      }
     ],
     "prompt_number": 18
    },
    {
     "cell_type": "heading",
     "level": 1,
     "metadata": {},
     "source": [
      "Random Forest"
     ]
    },
    {
     "cell_type": "code",
     "collapsed": false,
     "input": [
      "classifier = RandomForestClassifier()\n",
      "classifier.fit(X_train, y_train)\n",
      "predicted = classifier.predict(X_test)\n",
      "\n",
      "print(metrics.classification_report(y_test, predicted))\n",
      "print(metrics.confusion_matrix(y_test, predicted))\n",
      "print(metrics.f1_score(y_test, predicted))"
     ],
     "language": "python",
     "metadata": {},
     "outputs": [
      {
       "output_type": "stream",
       "stream": "stdout",
       "text": [
        "             precision    recall  f1-score   support\n",
        "\n",
        "          0       0.93      0.98      0.95      1097\n",
        "          1       0.96      0.90      0.93       744\n",
        "\n",
        "avg / total       0.95      0.94      0.94      1841\n",
        "\n",
        "[[1070   27]\n",
        " [  75  669]]\n",
        "0.929166666667\n"
       ]
      }
     ],
     "prompt_number": 55
    },
    {
     "cell_type": "heading",
     "level": 1,
     "metadata": {},
     "source": [
      "Ada Boost"
     ]
    },
    {
     "cell_type": "code",
     "collapsed": false,
     "input": [
      "classifier = AdaBoostClassifier()\n",
      "classifier.fit(X_train, y_train)\n",
      "predicted = classifier.predict(X_test)\n",
      "\n",
      "print(metrics.classification_report(y_test, predicted))\n",
      "print(metrics.confusion_matrix(y_test, predicted))\n",
      "print(metrics.f1_score(y_test, predicted))"
     ],
     "language": "python",
     "metadata": {},
     "outputs": [
      {
       "output_type": "stream",
       "stream": "stdout",
       "text": [
        "             precision    recall  f1-score   support\n",
        "\n",
        "          0       0.93      0.95      0.94      1097\n",
        "          1       0.92      0.89      0.91       744\n",
        "\n",
        "avg / total       0.93      0.93      0.93      1841\n",
        "\n",
        "[[1040   57]\n",
        " [  80  664]]\n",
        "0.906484641638\n"
       ]
      }
     ],
     "prompt_number": 21
    },
    {
     "cell_type": "code",
     "collapsed": false,
     "input": [],
     "language": "python",
     "metadata": {},
     "outputs": []
    }
   ],
   "metadata": {}
  }
 ]
}